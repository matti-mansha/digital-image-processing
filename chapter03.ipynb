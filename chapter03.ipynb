{
 "cells": [
  {
   "cell_type": "markdown",
   "id": "13ff1707",
   "metadata": {},
   "source": [
    "# Image Enhancement"
   ]
  },
  {
   "cell_type": "markdown",
   "id": "28e210e2",
   "metadata": {},
   "source": [
    "has three main <b>objectives </b>:\n",
    "* To remove noise from the image\n",
    "- Make the image visually appealing\n",
    "+ To make the part of image visually appealing"
   ]
  },
  {
   "cell_type": "markdown",
   "id": "3905d712",
   "metadata": {},
   "source": [
    "fall into two <b>categories</b>: \n",
    "+ Spatial domain operation: <br>\n",
    "<pre> In which we process pixel values directly\n",
    "+ Frequency Domain Operation:\n",
    "<pre> We process the signal frequencies present in the image. <br>\n",
    "Example:\n",
    "Discreate Fourier Transposisition\n",
    "Wavelet"
   ]
  },
  {
   "cell_type": "markdown",
   "id": "0e1727d4",
   "metadata": {},
   "source": [
    "## Spatial Domain Operation:\n",
    "### Image Enhancement:"
   ]
  },
  {
   "cell_type": "markdown",
   "id": "3004a8cc",
   "metadata": {},
   "source": [
    "#### Point Operation:\n",
    "<pre>  Process one pixel at a time.<br></pre>\n",
    "Most famous <b>point transformation</b> are following:<br>\n",
    "- Identity Transformation\n",
    "- Image Negative\n",
    "- log\n",
    "- power law\n",
    "- Contrast stretching/ Slicing Transformation\n",
    "- Bit plan slicing"
   ]
  },
  {
   "cell_type": "code",
   "execution_count": 1,
   "id": "64199c2b",
   "metadata": {},
   "outputs": [],
   "source": [
    "import numpy as np\n",
    "import cv2 as cv\n",
    "import matplotlib.pyplot as plt"
   ]
  },
  {
   "cell_type": "code",
   "execution_count": 2,
   "id": "63fd1cff",
   "metadata": {},
   "outputs": [],
   "source": [
    "img = cv.imread('resources/2.jpg')"
   ]
  },
  {
   "cell_type": "code",
   "execution_count": 3,
   "id": "c680c24c",
   "metadata": {},
   "outputs": [
    {
     "name": "stdout",
     "output_type": "stream",
     "text": [
      "(4608, 3456, 3)\n"
     ]
    }
   ],
   "source": [
    "print(img.shape)\n",
    "M = img.shape[0]*0.1\n",
    "N = img.shape[1]*0.1"
   ]
  },
  {
   "cell_type": "code",
   "execution_count": 4,
   "id": "b6d61f7c",
   "metadata": {},
   "outputs": [],
   "source": [
    "img1 = cv.resize(img, (int(N), int(M)))"
   ]
  },
  {
   "cell_type": "code",
   "execution_count": 5,
   "id": "c117dd2b",
   "metadata": {},
   "outputs": [],
   "source": [
    "cv.imshow(\"Original-resized\", img1)\n",
    "cv.waitKey(0)\n",
    "cv.destroyAllWindows()"
   ]
  },
  {
   "cell_type": "code",
   "execution_count": 6,
   "id": "d507e74b",
   "metadata": {},
   "outputs": [],
   "source": [
    "gray_img1 = cv.cvtColor(img1, cv.COLOR_BGR2GRAY)\n",
    "cv.imshow('Gray Image', gray_img1)\n",
    "cv.waitKey(0)\n",
    "cv.destroyAllWindows()"
   ]
  },
  {
   "cell_type": "markdown",
   "id": "76487ba0",
   "metadata": {},
   "source": [
    "#### Identity Transformation:\n",
    "<pre> S = 1.r"
   ]
  },
  {
   "cell_type": "code",
   "execution_count": 7,
   "id": "0f2dd3b5",
   "metadata": {},
   "outputs": [],
   "source": [
    "S_identity_gray_img1 = gray_img1 * 1"
   ]
  },
  {
   "cell_type": "code",
   "execution_count": 8,
   "id": "d4d964b1",
   "metadata": {},
   "outputs": [],
   "source": [
    "cv.imshow('Identity Transformed Image', S_identity_gray_img1)\n",
    "cv.waitKey(0)\n",
    "cv.destroyAllWindows()"
   ]
  },
  {
   "cell_type": "markdown",
   "id": "588a669c",
   "metadata": {},
   "source": [
    "#### Image Negative Transformation:\n",
    "<pre> S = 255 - r <br>\n",
    "(Invert for 8-bit image, light to dark and vice versa)"
   ]
  },
  {
   "cell_type": "code",
   "execution_count": 9,
   "id": "ddad1441",
   "metadata": {},
   "outputs": [],
   "source": [
    "S_negative_gray_img1 = 255 - gray_img1"
   ]
  },
  {
   "cell_type": "code",
   "execution_count": 10,
   "id": "5f6476b0",
   "metadata": {},
   "outputs": [],
   "source": [
    "cv.imshow('Gray Image', gray_img1)\n",
    "cv.imshow('Negative Transformed Image', S_negative_gray_img1)\n",
    "cv.waitKey(0)\n",
    "cv.destroyAllWindows()"
   ]
  },
  {
   "cell_type": "markdown",
   "id": "5e56feda",
   "metadata": {},
   "source": [
    "#### Thrisholding Transformation:\n",
    "<pre> S = {255; r > T <br></pre>\n",
    "         {0; r <= T"
   ]
  },
  {
   "cell_type": "code",
   "execution_count": 11,
   "id": "24a52e7e",
   "metadata": {},
   "outputs": [],
   "source": [
    "T = 50\n",
    "S_thrisholding_gray_img1 = gray_img1.copy()\n",
    "S_thrisholding_gray_img1[S_thrisholding_gray_img1 > T] = 255\n",
    "S_thrisholding_gray_img1[S_thrisholding_gray_img1 <= T] = 0"
   ]
  },
  {
   "cell_type": "code",
   "execution_count": 14,
   "id": "ec24cb4a",
   "metadata": {},
   "outputs": [],
   "source": [
    "cv.imshow('Gray Image', gray_img1)\n",
    "cv.imshow('Thrisholding Transformed Image', S_thrisholding_gray_img1)\n",
    "cv.waitKey(0)\n",
    "cv.destroyAllWindows()"
   ]
  },
  {
   "cell_type": "markdown",
   "id": "e9ff5545",
   "metadata": {},
   "source": [
    "#### Log Transformation:"
   ]
  },
  {
   "cell_type": "code",
   "execution_count": null,
   "id": "6b04cc52",
   "metadata": {},
   "outputs": [],
   "source": []
  },
  {
   "cell_type": "code",
   "execution_count": null,
   "id": "6f4c6cb1",
   "metadata": {},
   "outputs": [],
   "source": []
  },
  {
   "cell_type": "code",
   "execution_count": 32,
   "id": "5ba5949c",
   "metadata": {},
   "outputs": [],
   "source": [
    "# c = 255\n",
    "# rgb_array = img1.copy()\n",
    "# red_array, green_array, blue_array = np.split(rgb_array, 3, axis=2)\n",
    "\n",
    "# red_array_2D = red_array.reshape((int(M), int(N)))\n",
    "# green_array_2D = green_array.reshape((int(M), int(N)))\n",
    "# blue_array_2D = blue_array.reshape((int(M), int(N)))\n",
    "\n",
    "\n",
    "# img1_1 = (c * (np.log2(1 + red_array_2D))).astype('uint8')\n",
    "# img1_2 = (c * (np.log2(1 + green_array_2D))).astype('uint8')\n",
    "# img1_3 = (c * (np.log2(1 + blue_array_2D))).astype('uint8')\n",
    "# emphasized_blue_monet = np.stack([img1_1, img1_2, img1_3], axis=2)"
   ]
  },
  {
   "cell_type": "code",
   "execution_count": 15,
   "id": "b51ee185",
   "metadata": {},
   "outputs": [
    {
     "data": {
      "text/plain": [
       "array([[48, 57, 59, ..., 72, 69, 66],\n",
       "       [51, 57, 57, ..., 66, 63, 64],\n",
       "       [55, 55, 55, ..., 67, 68, 67],\n",
       "       ...,\n",
       "       [ 3,  3,  3, ...,  6,  3,  2],\n",
       "       [ 4,  4,  6, ...,  3,  3,  4],\n",
       "       [ 3,  4,  1, ...,  3,  1,  3]], dtype=uint8)"
      ]
     },
     "execution_count": 15,
     "metadata": {},
     "output_type": "execute_result"
    }
   ],
   "source": [
    "gray_img1"
   ]
  },
  {
   "cell_type": "code",
   "execution_count": 16,
   "id": "0150b370",
   "metadata": {},
   "outputs": [],
   "source": [
    "c = 255\n",
    "r = gray_img1.copy()\n",
    "r = r/255\n",
    "S_thrisholding_gray_img1 = (c * np.log2(1+r)).astype('uint8')"
   ]
  },
  {
   "cell_type": "code",
   "execution_count": 17,
   "id": "16ac74d4",
   "metadata": {},
   "outputs": [],
   "source": [
    "cv.imshow('Gray Image', gray_img1)\n",
    "cv.imshow('Log Transformed Image', S_thrisholding_gray_img1)\n",
    "# cv.imshow('Log Transformed Image', emphasized_blue_monet)\n",
    "cv.waitKey(0)\n",
    "cv.destroyAllWindows()"
   ]
  },
  {
   "cell_type": "code",
   "execution_count": null,
   "id": "d531fe1b",
   "metadata": {},
   "outputs": [],
   "source": []
  },
  {
   "cell_type": "code",
   "execution_count": null,
   "id": "090fba4a",
   "metadata": {},
   "outputs": [],
   "source": []
  },
  {
   "cell_type": "code",
   "execution_count": 18,
   "id": "e951c0f7",
   "metadata": {},
   "outputs": [
    {
     "data": {
      "text/plain": [
       "array([[48, 57, 59, ..., 72, 69, 66],\n",
       "       [51, 57, 57, ..., 66, 63, 64],\n",
       "       [55, 55, 55, ..., 67, 68, 67],\n",
       "       ...,\n",
       "       [ 3,  3,  3, ...,  6,  3,  2],\n",
       "       [ 4,  4,  6, ...,  3,  3,  4],\n",
       "       [ 3,  4,  1, ...,  3,  1,  3]], dtype=uint8)"
      ]
     },
     "execution_count": 18,
     "metadata": {},
     "output_type": "execute_result"
    }
   ],
   "source": [
    "gray_img1"
   ]
  },
  {
   "cell_type": "markdown",
   "id": "3031cd18",
   "metadata": {},
   "source": [
    "#### Power law Transformation:"
   ]
  },
  {
   "cell_type": "code",
   "execution_count": 21,
   "id": "8c1df8c2",
   "metadata": {},
   "outputs": [],
   "source": [
    "c = 255\n",
    "gamma = 2.5\n",
    "r = gray_img1.copy()\n",
    "r = r/255\n",
    "S_power_law_gray_img1 = (c * (r ** gamma)).astype('uint8')"
   ]
  },
  {
   "cell_type": "code",
   "execution_count": 23,
   "id": "8ada24ef",
   "metadata": {},
   "outputs": [],
   "source": [
    "cv.imshow('Gray Image', gray_img1)\n",
    "cv.imshow('Power law Transformed Image', S_power_law_gray_img1)\n",
    "# cv.imshow('Log Transformed Image', emphasized_blue_monet)\n",
    "cv.waitKey(0)\n",
    "cv.destroyAllWindows()"
   ]
  },
  {
   "cell_type": "code",
   "execution_count": null,
   "id": "9175e7ee",
   "metadata": {},
   "outputs": [],
   "source": []
  },
  {
   "cell_type": "code",
   "execution_count": null,
   "id": "7ad5ef04",
   "metadata": {},
   "outputs": [],
   "source": []
  },
  {
   "cell_type": "code",
   "execution_count": null,
   "id": "2aec296d",
   "metadata": {},
   "outputs": [],
   "source": []
  },
  {
   "cell_type": "markdown",
   "id": "67c94d9c",
   "metadata": {},
   "source": [
    "#### Contrast Stretching Transformation:"
   ]
  },
  {
   "cell_type": "code",
   "execution_count": 62,
   "id": "a826b6bf",
   "metadata": {},
   "outputs": [],
   "source": [
    "new_img1 = gray_img1.copy()"
   ]
  },
  {
   "cell_type": "code",
   "execution_count": 63,
   "id": "7a92b997",
   "metadata": {},
   "outputs": [
    {
     "data": {
      "image/png": "[encoded data removed]",
      "text/plain": [
       "<Figure size 432x288 with 1 Axes>"
      ]
     },
     "metadata": {
      "needs_background": "light"
     },
     "output_type": "display_data"
    }
   ],
   "source": [
    "plt.hist(new_img1.flatten(), bins=256)\n",
    "plt.show()"
   ]
  },
  {
   "cell_type": "code",
   "execution_count": 64,
   "id": "9fca61fd",
   "metadata": {},
   "outputs": [
    {
     "data": {
      "image/png": "[encoded data removed]",
      "text/plain": [
       "<Figure size 432x288 with 1 Axes>"
      ]
     },
     "metadata": {
      "needs_background": "light"
     },
     "output_type": "display_data"
    }
   ],
   "source": [
    "plt.hist(gray_img1.flatten(), bins=256)\n",
    "plt.show()"
   ]
  },
  {
   "cell_type": "code",
   "execution_count": 65,
   "id": "0a1a51f8",
   "metadata": {},
   "outputs": [],
   "source": [
    "c = 50\n",
    "d = 255\n",
    "a = 0 \n",
    "b = 255"
   ]
  },
  {
   "cell_type": "code",
   "execution_count": 66,
   "id": "5ba1af23",
   "metadata": {},
   "outputs": [],
   "source": [
    "# r = new_img1/255\n",
    "s = ((new_img1 - c) * ((b-a)/(d-c)) + a).astype('uint8')"
   ]
  },
  {
   "cell_type": "code",
   "execution_count": 67,
   "id": "2fb37d08",
   "metadata": {},
   "outputs": [
    {
     "data": {
      "text/plain": [
       "array([[48, 57, 59, ..., 72, 69, 66],\n",
       "       [51, 57, 57, ..., 66, 63, 64],\n",
       "       [55, 55, 55, ..., 67, 68, 67],\n",
       "       ...,\n",
       "       [ 3,  3,  3, ...,  6,  3,  2],\n",
       "       [ 4,  4,  6, ...,  3,  3,  4],\n",
       "       [ 3,  4,  1, ...,  3,  1,  3]], dtype=uint8)"
      ]
     },
     "execution_count": 67,
     "metadata": {},
     "output_type": "execute_result"
    }
   ],
   "source": [
    "new_img1"
   ]
  },
  {
   "cell_type": "code",
   "execution_count": 68,
   "id": "7cd03e31",
   "metadata": {},
   "outputs": [
    {
     "data": {
      "text/plain": [
       "array([[59,  8, 11, ..., 27, 23, 19],\n",
       "       [ 1,  8,  8, ..., 19, 16, 17],\n",
       "       [ 6,  6,  6, ..., 21, 22, 21],\n",
       "       ...,\n",
       "       [ 3,  3,  3, ...,  7,  3,  2],\n",
       "       [ 5,  5,  7, ...,  3,  3,  5],\n",
       "       [ 3,  5,  1, ...,  3,  1,  3]], dtype=uint8)"
      ]
     },
     "execution_count": 68,
     "metadata": {},
     "output_type": "execute_result"
    }
   ],
   "source": [
    "s"
   ]
  },
  {
   "cell_type": "code",
   "execution_count": 69,
   "id": "b1a0eb79",
   "metadata": {},
   "outputs": [
    {
     "data": {
      "image/png": "[encoded data removed]",
      "text/plain": [
       "<Figure size 432x288 with 1 Axes>"
      ]
     },
     "metadata": {
      "needs_background": "light"
     },
     "output_type": "display_data"
    }
   ],
   "source": [
    "plt.hist(s.flatten(), bins=256)\n",
    "plt.show()"
   ]
  },
  {
   "cell_type": "code",
   "execution_count": 70,
   "id": "634a6e51",
   "metadata": {},
   "outputs": [],
   "source": [
    "cv.imshow('Gray Image', gray_img1)\n",
    "cv.imshow('contrast streched Transformed Image', s)\n",
    "# cv.imshow('Log Transformed Image', emphasized_blue_monet)\n",
    "cv.waitKey(0)\n",
    "cv.destroyAllWindows()"
   ]
  },
  {
   "cell_type": "code",
   "execution_count": 71,
   "id": "2eef335f",
   "metadata": {},
   "outputs": [
    {
     "data": {
      "text/plain": [
       "array([[48, 57, 59, ..., 72, 69, 66],\n",
       "       [51, 57, 57, ..., 66, 63, 64],\n",
       "       [55, 55, 55, ..., 67, 68, 67],\n",
       "       ...,\n",
       "       [ 3,  3,  3, ...,  6,  3,  2],\n",
       "       [ 4,  4,  6, ...,  3,  3,  4],\n",
       "       [ 3,  4,  1, ...,  3,  1,  3]], dtype=uint8)"
      ]
     },
     "execution_count": 71,
     "metadata": {},
     "output_type": "execute_result"
    }
   ],
   "source": [
    "gray_img1"
   ]
  },
  {
   "cell_type": "code",
   "execution_count": 72,
   "id": "a5d815de",
   "metadata": {},
   "outputs": [
    {
     "data": {
      "text/plain": [
       "array([[59,  8, 11, ..., 27, 23, 19],\n",
       "       [ 1,  8,  8, ..., 19, 16, 17],\n",
       "       [ 6,  6,  6, ..., 21, 22, 21],\n",
       "       ...,\n",
       "       [ 3,  3,  3, ...,  7,  3,  2],\n",
       "       [ 5,  5,  7, ...,  3,  3,  5],\n",
       "       [ 3,  5,  1, ...,  3,  1,  3]], dtype=uint8)"
      ]
     },
     "execution_count": 72,
     "metadata": {},
     "output_type": "execute_result"
    }
   ],
   "source": [
    "s"
   ]
  },
  {
   "cell_type": "code",
   "execution_count": null,
   "id": "7406dc27",
   "metadata": {},
   "outputs": [],
   "source": []
  },
  {
   "cell_type": "code",
   "execution_count": null,
   "id": "19ebbc11",
   "metadata": {},
   "outputs": [],
   "source": []
  },
  {
   "cell_type": "code",
   "execution_count": null,
   "id": "85fa8bc1",
   "metadata": {},
   "outputs": [],
   "source": []
  },
  {
   "cell_type": "code",
   "execution_count": null,
   "id": "8a1d450e",
   "metadata": {},
   "outputs": [],
   "source": []
  },
  {
   "cell_type": "code",
   "execution_count": null,
   "id": "70ab6d11",
   "metadata": {},
   "outputs": [],
   "source": []
  },
  {
   "cell_type": "markdown",
   "id": "9dff82ca",
   "metadata": {},
   "source": [
    "#### Contrast Slicing Transformation:"
   ]
  },
  {
   "cell_type": "code",
   "execution_count": 73,
   "id": "fab35c2a",
   "metadata": {},
   "outputs": [],
   "source": [
    "c = 100\n",
    "d = 200\n",
    "T = 150"
   ]
  },
  {
   "cell_type": "code",
   "execution_count": 74,
   "id": "15613a9e",
   "metadata": {},
   "outputs": [],
   "source": [
    "S_contrast_slicing_gray_img1 = gray_img1.copy()\n",
    "S_contrast_slicing_gray_img1[(S_contrast_slicing_gray_img1 > c) & (S_contrast_slicing_gray_img1 < d)] = T"
   ]
  },
  {
   "cell_type": "code",
   "execution_count": 75,
   "id": "3fb1334c",
   "metadata": {},
   "outputs": [],
   "source": [
    "cv.imshow('Gray Image', gray_img1)\n",
    "cv.imshow('contrast slice Transformed Image', S_contrast_slicing_gray_img1)\n",
    "# cv.imshow('Log Transformed Image', emphasized_blue_monet)\n",
    "cv.waitKey(0)\n",
    "cv.destroyAllWindows()"
   ]
  },
  {
   "cell_type": "code",
   "execution_count": 76,
   "id": "b2cdd919",
   "metadata": {},
   "outputs": [
    {
     "data": {
      "image/png": "[encoded data removed]",
      "text/plain": [
       "<Figure size 432x288 with 1 Axes>"
      ]
     },
     "metadata": {
      "needs_background": "light"
     },
     "output_type": "display_data"
    }
   ],
   "source": [
    "plt.hist(S_contrast_slicing_gray_img1.flatten(), bins=256)\n",
    "plt.show()"
   ]
  },
  {
   "cell_type": "code",
   "execution_count": null,
   "id": "da13f705",
   "metadata": {},
   "outputs": [],
   "source": []
  },
  {
   "cell_type": "code",
   "execution_count": null,
   "id": "d1eb13ba",
   "metadata": {},
   "outputs": [],
   "source": []
  },
  {
   "cell_type": "code",
   "execution_count": 77,
   "id": "5bd9e501",
   "metadata": {},
   "outputs": [],
   "source": [
    "S_contrast_slicing_gray_img1 = gray_img1.copy()\n",
    "S_contrast_slicing_gray_img1[(S_contrast_slicing_gray_img1 > c) & (S_contrast_slicing_gray_img1 < d)] = T\n",
    "x = ((S_contrast_slicing_gray_img1 > c) & (S_contrast_slicing_gray_img1 < d))\n",
    "S_contrast_slicing_gray_img1[~x] = 0"
   ]
  },
  {
   "cell_type": "code",
   "execution_count": 78,
   "id": "581e3da5",
   "metadata": {},
   "outputs": [],
   "source": [
    "cv.imshow('Gray Image', gray_img1)\n",
    "cv.imshow('contrast slice Transformed Image', S_contrast_slicing_gray_img1)\n",
    "# cv.imshow('Log Transformed Image', emphasized_blue_monet)\n",
    "cv.waitKey(0)\n",
    "cv.destroyAllWindows()"
   ]
  },
  {
   "cell_type": "code",
   "execution_count": 79,
   "id": "25495dc6",
   "metadata": {},
   "outputs": [
    {
     "data": {
      "image/png": "[encoded data removed]",
      "text/plain": [
       "<Figure size 432x288 with 1 Axes>"
      ]
     },
     "metadata": {
      "needs_background": "light"
     },
     "output_type": "display_data"
    }
   ],
   "source": [
    "plt.hist(S_contrast_slicing_gray_img1.flatten(), bins=256)\n",
    "plt.show()"
   ]
  },
  {
   "cell_type": "code",
   "execution_count": null,
   "id": "46b874d0",
   "metadata": {},
   "outputs": [],
   "source": []
  },
  {
   "cell_type": "code",
   "execution_count": null,
   "id": "7a6811cc",
   "metadata": {},
   "outputs": [],
   "source": []
  },
  {
   "cell_type": "code",
   "execution_count": null,
   "id": "7d5b374c",
   "metadata": {},
   "outputs": [],
   "source": []
  },
  {
   "cell_type": "code",
   "execution_count": null,
   "id": "df293fc5",
   "metadata": {},
   "outputs": [],
   "source": []
  },
  {
   "cell_type": "code",
   "execution_count": null,
   "id": "79d9e1d9",
   "metadata": {},
   "outputs": [],
   "source": []
  },
  {
   "cell_type": "code",
   "execution_count": null,
   "id": "9b8564b4",
   "metadata": {},
   "outputs": [],
   "source": []
  },
  {
   "cell_type": "markdown",
   "id": "6f3aeb39",
   "metadata": {},
   "source": [
    "### Histogram Equalization"
   ]
  },
  {
   "cell_type": "code",
   "execution_count": null,
   "id": "21426f55",
   "metadata": {},
   "outputs": [],
   "source": []
  },
  {
   "cell_type": "code",
   "execution_count": null,
   "id": "ffc21f27",
   "metadata": {},
   "outputs": [],
   "source": []
  },
  {
   "cell_type": "code",
   "execution_count": null,
   "id": "76e75fba",
   "metadata": {},
   "outputs": [],
   "source": []
  },
  {
   "cell_type": "markdown",
   "id": "7387d1a0",
   "metadata": {},
   "source": [
    "#### CDF in discreate space"
   ]
  },
  {
   "cell_type": "code",
   "execution_count": 80,
   "id": "5d6b1d9b",
   "metadata": {},
   "outputs": [
    {
     "data": {
      "text/plain": [
       "array([[48, 57, 59, ..., 72, 69, 66],\n",
       "       [51, 57, 57, ..., 66, 63, 64],\n",
       "       [55, 55, 55, ..., 67, 68, 67],\n",
       "       ...,\n",
       "       [ 3,  3,  3, ...,  6,  3,  2],\n",
       "       [ 4,  4,  6, ...,  3,  3,  4],\n",
       "       [ 3,  4,  1, ...,  3,  1,  3]], dtype=uint8)"
      ]
     },
     "execution_count": 80,
     "metadata": {},
     "output_type": "execute_result"
    }
   ],
   "source": [
    "gray_img1"
   ]
  },
  {
   "cell_type": "code",
   "execution_count": 81,
   "id": "261916e8",
   "metadata": {},
   "outputs": [
    {
     "data": {
      "image/png": "[encoded data removed]",
      "text/plain": [
       "<Figure size 432x288 with 1 Axes>"
      ]
     },
     "metadata": {
      "needs_background": "light"
     },
     "output_type": "display_data"
    }
   ],
   "source": [
    "plt.hist(gray_img1.flatten(), bins=256)\n",
    "plt.show()"
   ]
  },
  {
   "cell_type": "code",
   "execution_count": 82,
   "id": "cdc46f59",
   "metadata": {},
   "outputs": [],
   "source": [
    "cv.imshow('Gray Image', gray_img1)\n",
    "cv.waitKey(0)\n",
    "cv.destroyAllWindows()"
   ]
  },
  {
   "cell_type": "code",
   "execution_count": 83,
   "id": "318fcc77",
   "metadata": {},
   "outputs": [],
   "source": [
    "r = np.arange(0,256)"
   ]
  },
  {
   "cell_type": "code",
   "execution_count": 84,
   "id": "03abadec",
   "metadata": {},
   "outputs": [
    {
     "data": {
      "text/plain": [
       "array([  0,   1,   2,   3,   4,   5,   6,   7,   8,   9,  10,  11,  12,\n",
       "        13,  14,  15,  16,  17,  18,  19,  20,  21,  22,  23,  24,  25,\n",
       "        26,  27,  28,  29,  30,  31,  32,  33,  34,  35,  36,  37,  38,\n",
       "        39,  40,  41,  42,  43,  44,  45,  46,  47,  48,  49,  50,  51,\n",
       "        52,  53,  54,  55,  56,  57,  58,  59,  60,  61,  62,  63,  64,\n",
       "        65,  66,  67,  68,  69,  70,  71,  72,  73,  74,  75,  76,  77,\n",
       "        78,  79,  80,  81,  82,  83,  84,  85,  86,  87,  88,  89,  90,\n",
       "        91,  92,  93,  94,  95,  96,  97,  98,  99, 100, 101, 102, 103,\n",
       "       104, 105, 106, 107, 108, 109, 110, 111, 112, 113, 114, 115, 116,\n",
       "       117, 118, 119, 120, 121, 122, 123, 124, 125, 126, 127, 128, 129,\n",
       "       130, 131, 132, 133, 134, 135, 136, 137, 138, 139, 140, 141, 142,\n",
       "       143, 144, 145, 146, 147, 148, 149, 150, 151, 152, 153, 154, 155,\n",
       "       156, 157, 158, 159, 160, 161, 162, 163, 164, 165, 166, 167, 168,\n",
       "       169, 170, 171, 172, 173, 174, 175, 176, 177, 178, 179, 180, 181,\n",
       "       182, 183, 184, 185, 186, 187, 188, 189, 190, 191, 192, 193, 194,\n",
       "       195, 196, 197, 198, 199, 200, 201, 202, 203, 204, 205, 206, 207,\n",
       "       208, 209, 210, 211, 212, 213, 214, 215, 216, 217, 218, 219, 220,\n",
       "       221, 222, 223, 224, 225, 226, 227, 228, 229, 230, 231, 232, 233,\n",
       "       234, 235, 236, 237, 238, 239, 240, 241, 242, 243, 244, 245, 246,\n",
       "       247, 248, 249, 250, 251, 252, 253, 254, 255])"
      ]
     },
     "execution_count": 84,
     "metadata": {},
     "output_type": "execute_result"
    }
   ],
   "source": [
    "r"
   ]
  },
  {
   "cell_type": "code",
   "execution_count": 85,
   "id": "1c84956e",
   "metadata": {},
   "outputs": [],
   "source": [
    "x = gray_img1.flatten()"
   ]
  },
  {
   "cell_type": "code",
   "execution_count": 86,
   "id": "d6c3eac9",
   "metadata": {},
   "outputs": [],
   "source": [
    "n_r = np.bincount(x)"
   ]
  },
  {
   "cell_type": "code",
   "execution_count": 87,
   "id": "d3a30010",
   "metadata": {},
   "outputs": [
    {
     "data": {
      "text/plain": [
       "array([ 549, 2420, 5762, 5596, 5035, 4109, 3561, 3312, 3252, 3667, 3839,\n",
       "       3701, 3114, 2833, 2622, 2616, 2446, 2265, 2158, 1840, 1687, 1477,\n",
       "       1189, 1083,  867,  806,  726,  615,  571,  504,  442,  371,  301,\n",
       "        220,  160,  148,  144,  127,  109,  122,  116,  118,  140,  127,\n",
       "        125,  130,  124,  117,  124,  120,  104,  120,  124,  144,  122,\n",
       "        150,  160,  163,  192,  229,  274,  307,  312,  355,  398,  472,\n",
       "        554,  602,  715,  723,  828,  922, 1006, 1145, 1115, 1174, 1314,\n",
       "       1389, 1497, 1528, 1454, 1516, 1499, 1530, 1487, 1495, 1517, 1489,\n",
       "       1389, 1433, 1442, 1536, 1512, 1383, 1406, 1379, 1391, 1385, 1250,\n",
       "       1284, 1169, 1181, 1195, 1102, 1091,  971, 1010,  989,  961,  908,\n",
       "        871,  866,  766,  751,  753,  687,  665,  666,  624,  602,  560,\n",
       "        548,  526,  483,  483,  502,  442,  448,  375,  429,  367,  356,\n",
       "        328,  344,  326,  311,  288,  269,  261,  278,  235,  263,  213,\n",
       "        231,  195,  211,  206,  178,  198,  183,  159,  163,  138,  164,\n",
       "        151,  131,  129,  123,  129,  137,  114,  110,  101,   90,  101,\n",
       "         90,   96,   97,   82,   85,   86,   90,   78,   70,   66,   75,\n",
       "         71,   76,   74,   61,   57,   68,   68,   59,   63,   58,   64,\n",
       "         70,   58,   44,   49,   48,   56,   60,   49,   50,   52,   53,\n",
       "         44,   41,   39,   50,   45,   39,   44,   42,   41,   23,   43,\n",
       "         41,   31,   44,   25,   41,   38,   23,   36,   36,   38,   24,\n",
       "         29,   38,   25,   31,   39,   19,   28,   25,   33,   28,   23,\n",
       "         31,   32,   23,   30,   18,   22,   32,   21,   23,   30,   26,\n",
       "         22,   22,   23,   19,   20,   24,   15,   22,   27,   18,   12,\n",
       "         27,   44,  421], dtype=int64)"
      ]
     },
     "execution_count": 87,
     "metadata": {},
     "output_type": "execute_result"
    }
   ],
   "source": [
    "n_r"
   ]
  },
  {
   "cell_type": "code",
   "execution_count": 88,
   "id": "dc441a11",
   "metadata": {},
   "outputs": [
    {
     "data": {
      "text/plain": [
       "158700"
      ]
     },
     "execution_count": 88,
     "metadata": {},
     "output_type": "execute_result"
    }
   ],
   "source": [
    "n_r.sum()"
   ]
  },
  {
   "cell_type": "code",
   "execution_count": 89,
   "id": "a9e8eef0",
   "metadata": {},
   "outputs": [],
   "source": [
    "p_r = n_r / n_r.sum()"
   ]
  },
  {
   "cell_type": "code",
   "execution_count": 90,
   "id": "6c903c06",
   "metadata": {},
   "outputs": [
    {
     "data": {
      "text/plain": [
       "array([3.45935728e-03, 1.52488973e-02, 3.63074984e-02, 3.52614997e-02,\n",
       "       3.17265280e-02, 2.58916194e-02, 2.24385633e-02, 2.08695652e-02,\n",
       "       2.04914934e-02, 2.31064902e-02, 2.41902962e-02, 2.33207309e-02,\n",
       "       1.96219282e-02, 1.78512917e-02, 1.65217391e-02, 1.64839319e-02,\n",
       "       1.54127284e-02, 1.42722117e-02, 1.35979836e-02, 1.15942029e-02,\n",
       "       1.06301197e-02, 9.30686830e-03, 7.49212350e-03, 6.82419660e-03,\n",
       "       5.46313800e-03, 5.07876497e-03, 4.57466919e-03, 3.87523629e-03,\n",
       "       3.59798362e-03, 3.17580340e-03, 2.78512917e-03, 2.33774417e-03,\n",
       "       1.89666037e-03, 1.38626339e-03, 1.00819156e-03, 9.32577190e-04,\n",
       "       9.07372401e-04, 8.00252048e-04, 6.86830498e-04, 7.68746062e-04,\n",
       "       7.30938878e-04, 7.43541273e-04, 8.82167612e-04, 8.00252048e-04,\n",
       "       7.87649653e-04, 8.19155640e-04, 7.81348456e-04, 7.37240076e-04,\n",
       "       7.81348456e-04, 7.56143667e-04, 6.55324512e-04, 7.56143667e-04,\n",
       "       7.81348456e-04, 9.07372401e-04, 7.68746062e-04, 9.45179584e-04,\n",
       "       1.00819156e-03, 1.02709515e-03, 1.20982987e-03, 1.44297417e-03,\n",
       "       1.72652804e-03, 1.93446755e-03, 1.96597353e-03, 2.23692502e-03,\n",
       "       2.50787650e-03, 2.97416509e-03, 3.49086326e-03, 3.79332073e-03,\n",
       "       4.50535602e-03, 4.55576560e-03, 5.21739130e-03, 5.80970384e-03,\n",
       "       6.33900441e-03, 7.21487083e-03, 7.02583491e-03, 7.39760555e-03,\n",
       "       8.27977316e-03, 8.75236295e-03, 9.43289225e-03, 9.62822936e-03,\n",
       "       9.16194077e-03, 9.55261500e-03, 9.44549464e-03, 9.64083176e-03,\n",
       "       9.36988028e-03, 9.42028986e-03, 9.55891619e-03, 9.38248267e-03,\n",
       "       8.75236295e-03, 9.02961563e-03, 9.08632640e-03, 9.67863894e-03,\n",
       "       9.52741021e-03, 8.71455577e-03, 8.85948330e-03, 8.68935098e-03,\n",
       "       8.76496534e-03, 8.72715816e-03, 7.87649653e-03, 8.09073724e-03,\n",
       "       7.36609956e-03, 7.44171393e-03, 7.52993069e-03, 6.94391934e-03,\n",
       "       6.87460618e-03, 6.11846251e-03, 6.36420920e-03, 6.23188406e-03,\n",
       "       6.05545054e-03, 5.72148708e-03, 5.48834279e-03, 5.45683680e-03,\n",
       "       4.82671708e-03, 4.73219912e-03, 4.74480151e-03, 4.32892250e-03,\n",
       "       4.19029616e-03, 4.19659735e-03, 3.93194707e-03, 3.79332073e-03,\n",
       "       3.52867045e-03, 3.45305608e-03, 3.31442974e-03, 3.04347826e-03,\n",
       "       3.04347826e-03, 3.16320101e-03, 2.78512917e-03, 2.82293636e-03,\n",
       "       2.36294896e-03, 2.70321361e-03, 2.31253938e-03, 2.24322621e-03,\n",
       "       2.06679269e-03, 2.16761185e-03, 2.05419030e-03, 1.95967234e-03,\n",
       "       1.81474480e-03, 1.69502205e-03, 1.64461248e-03, 1.75173283e-03,\n",
       "       1.48078135e-03, 1.65721487e-03, 1.34215501e-03, 1.45557656e-03,\n",
       "       1.22873346e-03, 1.32955261e-03, 1.29804663e-03, 1.12161311e-03,\n",
       "       1.24763705e-03, 1.15311909e-03, 1.00189036e-03, 1.02709515e-03,\n",
       "       8.69565217e-04, 1.03339635e-03, 9.51480781e-04, 8.25456837e-04,\n",
       "       8.12854442e-04, 7.75047259e-04, 8.12854442e-04, 8.63264020e-04,\n",
       "       7.18336484e-04, 6.93131695e-04, 6.36420920e-04, 5.67107750e-04,\n",
       "       6.36420920e-04, 5.67107750e-04, 6.04914934e-04, 6.11216131e-04,\n",
       "       5.16698173e-04, 5.35601764e-04, 5.41902962e-04, 5.67107750e-04,\n",
       "       4.91493384e-04, 4.41083806e-04, 4.15879017e-04, 4.72589792e-04,\n",
       "       4.47385003e-04, 4.78890989e-04, 4.66288595e-04, 3.84373031e-04,\n",
       "       3.59168242e-04, 4.28481411e-04, 4.28481411e-04, 3.71770636e-04,\n",
       "       3.96975425e-04, 3.65469439e-04, 4.03276623e-04, 4.41083806e-04,\n",
       "       3.65469439e-04, 2.77252678e-04, 3.08758664e-04, 3.02457467e-04,\n",
       "       3.52867045e-04, 3.78071834e-04, 3.08758664e-04, 3.15059861e-04,\n",
       "       3.27662256e-04, 3.33963453e-04, 2.77252678e-04, 2.58349086e-04,\n",
       "       2.45746692e-04, 3.15059861e-04, 2.83553875e-04, 2.45746692e-04,\n",
       "       2.77252678e-04, 2.64650284e-04, 2.58349086e-04, 1.44927536e-04,\n",
       "       2.70951481e-04, 2.58349086e-04, 1.95337114e-04, 2.77252678e-04,\n",
       "       1.57529931e-04, 2.58349086e-04, 2.39445495e-04, 1.44927536e-04,\n",
       "       2.26843100e-04, 2.26843100e-04, 2.39445495e-04, 1.51228733e-04,\n",
       "       1.82734720e-04, 2.39445495e-04, 1.57529931e-04, 1.95337114e-04,\n",
       "       2.45746692e-04, 1.19722747e-04, 1.76433522e-04, 1.57529931e-04,\n",
       "       2.07939509e-04, 1.76433522e-04, 1.44927536e-04, 1.95337114e-04,\n",
       "       2.01638311e-04, 1.44927536e-04, 1.89035917e-04, 1.13421550e-04,\n",
       "       1.38626339e-04, 2.01638311e-04, 1.32325142e-04, 1.44927536e-04,\n",
       "       1.89035917e-04, 1.63831128e-04, 1.38626339e-04, 1.38626339e-04,\n",
       "       1.44927536e-04, 1.19722747e-04, 1.26023945e-04, 1.51228733e-04,\n",
       "       9.45179584e-05, 1.38626339e-04, 1.70132325e-04, 1.13421550e-04,\n",
       "       7.56143667e-05, 1.70132325e-04, 2.77252678e-04, 2.65280403e-03])"
      ]
     },
     "execution_count": 90,
     "metadata": {},
     "output_type": "execute_result"
    }
   ],
   "source": [
    "p_r"
   ]
  },
  {
   "cell_type": "code",
   "execution_count": 91,
   "id": "4a4f49da",
   "metadata": {},
   "outputs": [],
   "source": [
    "c_p_r = p_r.cumsum()"
   ]
  },
  {
   "cell_type": "code",
   "execution_count": 92,
   "id": "b50bf82d",
   "metadata": {},
   "outputs": [
    {
     "data": {
      "text/plain": [
       "array([0.00345936, 0.01870825, 0.05501575, 0.09027725, 0.12200378,\n",
       "       0.1478954 , 0.17033396, 0.19120353, 0.21169502, 0.23480151,\n",
       "       0.25899181, 0.28231254, 0.30193447, 0.31978576, 0.3363075 ,\n",
       "       0.35279143, 0.36820416, 0.38247637, 0.39607435, 0.40766856,\n",
       "       0.41829868, 0.42760555, 0.43509767, 0.44192187, 0.447385  ,\n",
       "       0.45246377, 0.45703844, 0.46091367, 0.46451166, 0.46768746,\n",
       "       0.47047259, 0.47281033, 0.47470699, 0.47609326, 0.47710145,\n",
       "       0.47803403, 0.4789414 , 0.47974165, 0.48042848, 0.48119723,\n",
       "       0.48192817, 0.48267171, 0.48355388, 0.48435413, 0.48514178,\n",
       "       0.48596093, 0.48674228, 0.48747952, 0.48826087, 0.48901701,\n",
       "       0.48967234, 0.49042848, 0.49120983, 0.4921172 , 0.49288595,\n",
       "       0.49383113, 0.49483932, 0.49586641, 0.49707624, 0.49851922,\n",
       "       0.50024575, 0.50218021, 0.50414619, 0.50638311, 0.50889099,\n",
       "       0.51186515, 0.51535602, 0.51914934, 0.52365469, 0.52821046,\n",
       "       0.53342785, 0.53923756, 0.54557656, 0.55279143, 0.55981727,\n",
       "       0.56721487, 0.57549464, 0.58424701, 0.5936799 , 0.60330813,\n",
       "       0.61247007, 0.62202268, 0.63146818, 0.64110901, 0.65047889,\n",
       "       0.65989918, 0.6694581 , 0.67884058, 0.68759294, 0.69662256,\n",
       "       0.70570888, 0.71538752, 0.72491493, 0.73362949, 0.74248897,\n",
       "       0.75117832, 0.75994329, 0.76867045, 0.77654694, 0.78463768,\n",
       "       0.79200378, 0.79944549, 0.80697543, 0.81391934, 0.82079395,\n",
       "       0.82691241, 0.83327662, 0.83950851, 0.84556396, 0.85128544,\n",
       "       0.85677379, 0.86223062, 0.86705734, 0.87178954, 0.87653434,\n",
       "       0.88086326, 0.88505356, 0.88925016, 0.8931821 , 0.89697543,\n",
       "       0.9005041 , 0.90395715, 0.90727158, 0.91031506, 0.91335854,\n",
       "       0.91652174, 0.91930687, 0.9221298 , 0.92449275, 0.92719597,\n",
       "       0.92950851, 0.93175173, 0.93381853, 0.93598614, 0.93804033,\n",
       "       0.94      , 0.94181474, 0.94350977, 0.94515438, 0.94690611,\n",
       "       0.94838689, 0.95004411, 0.95138626, 0.95284184, 0.95407057,\n",
       "       0.95540013, 0.95669817, 0.95781979, 0.95906742, 0.96022054,\n",
       "       0.96122243, 0.96224953, 0.96311909, 0.96415249, 0.96510397,\n",
       "       0.96592943, 0.96674228, 0.96751733, 0.96833018, 0.96919345,\n",
       "       0.96991178, 0.97060491, 0.97124134, 0.97180844, 0.97244486,\n",
       "       0.97301197, 0.97361689, 0.9742281 , 0.9747448 , 0.9752804 ,\n",
       "       0.97582231, 0.97638941, 0.97688091, 0.97732199, 0.97773787,\n",
       "       0.97821046, 0.97865784, 0.97913674, 0.97960302, 0.9799874 ,\n",
       "       0.98034657, 0.98077505, 0.98120353, 0.9815753 , 0.98197227,\n",
       "       0.98233774, 0.98274102, 0.9831821 , 0.98354757, 0.98382483,\n",
       "       0.98413359, 0.98443604, 0.98478891, 0.98516698, 0.98547574,\n",
       "       0.9857908 , 0.98611846, 0.98645243, 0.98672968, 0.98698803,\n",
       "       0.98723377, 0.98754883, 0.98783239, 0.98807813, 0.98835539,\n",
       "       0.98862004, 0.98887839, 0.98902331, 0.98929427, 0.98955261,\n",
       "       0.98974795, 0.9900252 , 0.99018273, 0.99044108, 0.99068053,\n",
       "       0.99082546, 0.9910523 , 0.99127914, 0.99151859, 0.99166982,\n",
       "       0.99185255, 0.992092  , 0.99224953, 0.99244486, 0.99269061,\n",
       "       0.99281033, 0.99298677, 0.9931443 , 0.99335224, 0.99352867,\n",
       "       0.9936736 , 0.99386894, 0.99407057, 0.9942155 , 0.99440454,\n",
       "       0.99451796, 0.99465658, 0.99485822, 0.99499055, 0.99513548,\n",
       "       0.99532451, 0.99548834, 0.99562697, 0.9957656 , 0.99591052,\n",
       "       0.99603025, 0.99615627, 0.9963075 , 0.99640202, 0.99654064,\n",
       "       0.99671078, 0.9968242 , 0.99689981, 0.99706994, 0.9973472 ,\n",
       "       1.        ])"
      ]
     },
     "execution_count": 92,
     "metadata": {},
     "output_type": "execute_result"
    }
   ],
   "source": [
    "c_p_r"
   ]
  },
  {
   "cell_type": "code",
   "execution_count": 93,
   "id": "dd134663",
   "metadata": {},
   "outputs": [],
   "source": [
    "cdf = 255 * c_p_r"
   ]
  },
  {
   "cell_type": "code",
   "execution_count": 94,
   "id": "a39c6abd",
   "metadata": {},
   "outputs": [
    {
     "data": {
      "text/plain": [
       "array([  0.88213611,   4.77060491,  14.02901701,  23.02069943,\n",
       "        31.11096408,  37.71332703,  43.43516068,  48.75689981,\n",
       "        53.98223062,  59.87438563,  66.04291115,  71.98969754,\n",
       "        76.99328922,  81.54536862,  85.7584121 ,  89.96181474,\n",
       "        93.89206049,  97.53147448, 100.9989603 , 103.95548204,\n",
       "       106.66616257, 109.03941399, 110.94990548, 112.69007561,\n",
       "       114.0831758 , 115.37826087, 116.54480151, 117.53298677,\n",
       "       118.45047259, 119.26030246, 119.9705104 , 120.56663516,\n",
       "       121.05028355, 121.40378072, 121.66086957, 121.89867675,\n",
       "       122.13005671, 122.33412098, 122.50926276, 122.70529301,\n",
       "       122.89168242, 123.08128544, 123.30623819, 123.51030246,\n",
       "       123.71115312, 123.92003781, 124.11928166, 124.30727788,\n",
       "       124.50652174, 124.69933837, 124.86644612, 125.05926276,\n",
       "       125.25850662, 125.48988658, 125.68591682, 125.92693762,\n",
       "       126.18402647, 126.44593573, 126.75444234, 127.12240076,\n",
       "       127.56266541, 128.05595463, 128.55727788, 129.12769376,\n",
       "       129.76720227, 130.52561437, 131.4157845 , 132.38308129,\n",
       "       133.53194707, 134.6936673 , 136.02410208, 137.50557656,\n",
       "       139.12202268, 140.96181474, 142.75340265, 144.63979206,\n",
       "       146.75113422, 148.98298677, 151.38837429, 153.84357278,\n",
       "       156.17986767, 158.6157845 , 161.02438563, 163.48279773,\n",
       "       165.8721172 , 168.27429112, 170.71181474, 173.10434783,\n",
       "       175.33620038, 177.63875236, 179.9557656 , 182.42381853,\n",
       "       184.85330813, 187.07551985, 189.33468809, 191.55047259,\n",
       "       193.78553875, 196.01096408, 198.0194707 , 200.0826087 ,\n",
       "       201.96096408, 203.85860113, 205.77873346, 207.54943289,\n",
       "       209.30245747, 210.86266541, 212.48553875, 214.07466919,\n",
       "       215.61880907, 217.07778828, 218.47731569, 219.86880907,\n",
       "       221.09962193, 222.3063327 , 223.51625709, 224.62013233,\n",
       "       225.68865784, 226.75879017, 227.76143667, 228.72873346,\n",
       "       229.62854442, 230.50907372, 231.35425331, 232.13034026,\n",
       "       232.90642722, 233.71304348, 234.42325142, 235.14310019,\n",
       "       235.74565217, 236.43497164, 237.02466919, 237.59669187,\n",
       "       238.12372401, 238.67646503, 239.20028355, 239.7       ,\n",
       "       240.16275992, 240.59499055, 241.01436673, 241.4610586 ,\n",
       "       241.83865784, 242.26124764, 242.60349716, 242.97466919,\n",
       "       243.28799622, 243.62703214, 243.95803403, 244.24404537,\n",
       "       244.56219282, 244.85623819, 245.11172023, 245.37362949,\n",
       "       245.59536862, 245.85888469, 246.10151229, 246.31200378,\n",
       "       246.51928166, 246.71691871, 246.9241966 , 247.14432892,\n",
       "       247.32750473, 247.50425331, 247.66654064, 247.81115312,\n",
       "       247.97344045, 248.11805293, 248.27230624, 248.42816635,\n",
       "       248.55992439, 248.69650284, 248.83468809, 248.97930057,\n",
       "       249.10463138, 249.21710775, 249.3231569 , 249.4436673 ,\n",
       "       249.55775047, 249.67986767, 249.79877127, 249.89678639,\n",
       "       249.98837429, 250.09763705, 250.20689981, 250.30170132,\n",
       "       250.40293006, 250.49612476, 250.5989603 , 250.71143667,\n",
       "       250.80463138, 250.87533081, 250.95406427, 251.03119093,\n",
       "       251.12117202, 251.21758034, 251.2963138 , 251.37665406,\n",
       "       251.46020794, 251.54536862, 251.61606805, 251.68194707,\n",
       "       251.74461248, 251.82495274, 251.89725898, 251.95992439,\n",
       "       252.03062382, 252.09810964, 252.16398866, 252.20094518,\n",
       "       252.27003781, 252.33591682, 252.38572779, 252.45642722,\n",
       "       252.49659735, 252.56247637, 252.62353497, 252.66049149,\n",
       "       252.71833648, 252.77618147, 252.83724008, 252.8758034 ,\n",
       "       252.92240076, 252.98345936, 253.02362949, 253.07344045,\n",
       "       253.13610586, 253.16663516, 253.21162571, 253.25179584,\n",
       "       253.30482042, 253.34981096, 253.38676749, 253.43657845,\n",
       "       253.48799622, 253.52495274, 253.5731569 , 253.6020794 ,\n",
       "       253.63742911, 253.68884688, 253.72258979, 253.75954631,\n",
       "       253.80775047, 253.84952741, 253.88487713, 253.92022684,\n",
       "       253.95718336, 253.98771267, 254.01984877, 254.0584121 ,\n",
       "       254.08251418, 254.11786389, 254.16124764, 254.19017013,\n",
       "       254.2094518 , 254.25283554, 254.32353497, 255.        ])"
      ]
     },
     "execution_count": 94,
     "metadata": {},
     "output_type": "execute_result"
    }
   ],
   "source": [
    "cdf"
   ]
  },
  {
   "cell_type": "code",
   "execution_count": 95,
   "id": "2334779c",
   "metadata": {},
   "outputs": [],
   "source": [
    "cdf = cdf.astype('uint16')"
   ]
  },
  {
   "cell_type": "code",
   "execution_count": 96,
   "id": "edf8a9c0",
   "metadata": {},
   "outputs": [],
   "source": [
    "n = dict(zip(r, cdf))"
   ]
  },
  {
   "cell_type": "code",
   "execution_count": 97,
   "id": "7de723a8",
   "metadata": {},
   "outputs": [
    {
     "data": {
      "text/plain": [
       "{0: 0,\n",
       " 1: 4,\n",
       " 2: 14,\n",
       " 3: 23,\n",
       " 4: 31,\n",
       " 5: 37,\n",
       " 6: 43,\n",
       " 7: 48,\n",
       " 8: 53,\n",
       " 9: 59,\n",
       " 10: 66,\n",
       " 11: 71,\n",
       " 12: 76,\n",
       " 13: 81,\n",
       " 14: 85,\n",
       " 15: 89,\n",
       " 16: 93,\n",
       " 17: 97,\n",
       " 18: 100,\n",
       " 19: 103,\n",
       " 20: 106,\n",
       " 21: 109,\n",
       " 22: 110,\n",
       " 23: 112,\n",
       " 24: 114,\n",
       " 25: 115,\n",
       " 26: 116,\n",
       " 27: 117,\n",
       " 28: 118,\n",
       " 29: 119,\n",
       " 30: 119,\n",
       " 31: 120,\n",
       " 32: 121,\n",
       " 33: 121,\n",
       " 34: 121,\n",
       " 35: 121,\n",
       " 36: 122,\n",
       " 37: 122,\n",
       " 38: 122,\n",
       " 39: 122,\n",
       " 40: 122,\n",
       " 41: 123,\n",
       " 42: 123,\n",
       " 43: 123,\n",
       " 44: 123,\n",
       " 45: 123,\n",
       " 46: 124,\n",
       " 47: 124,\n",
       " 48: 124,\n",
       " 49: 124,\n",
       " 50: 124,\n",
       " 51: 125,\n",
       " 52: 125,\n",
       " 53: 125,\n",
       " 54: 125,\n",
       " 55: 125,\n",
       " 56: 126,\n",
       " 57: 126,\n",
       " 58: 126,\n",
       " 59: 127,\n",
       " 60: 127,\n",
       " 61: 128,\n",
       " 62: 128,\n",
       " 63: 129,\n",
       " 64: 129,\n",
       " 65: 130,\n",
       " 66: 131,\n",
       " 67: 132,\n",
       " 68: 133,\n",
       " 69: 134,\n",
       " 70: 136,\n",
       " 71: 137,\n",
       " 72: 139,\n",
       " 73: 140,\n",
       " 74: 142,\n",
       " 75: 144,\n",
       " 76: 146,\n",
       " 77: 148,\n",
       " 78: 151,\n",
       " 79: 153,\n",
       " 80: 156,\n",
       " 81: 158,\n",
       " 82: 161,\n",
       " 83: 163,\n",
       " 84: 165,\n",
       " 85: 168,\n",
       " 86: 170,\n",
       " 87: 173,\n",
       " 88: 175,\n",
       " 89: 177,\n",
       " 90: 179,\n",
       " 91: 182,\n",
       " 92: 184,\n",
       " 93: 187,\n",
       " 94: 189,\n",
       " 95: 191,\n",
       " 96: 193,\n",
       " 97: 196,\n",
       " 98: 198,\n",
       " 99: 200,\n",
       " 100: 201,\n",
       " 101: 203,\n",
       " 102: 205,\n",
       " 103: 207,\n",
       " 104: 209,\n",
       " 105: 210,\n",
       " 106: 212,\n",
       " 107: 214,\n",
       " 108: 215,\n",
       " 109: 217,\n",
       " 110: 218,\n",
       " 111: 219,\n",
       " 112: 221,\n",
       " 113: 222,\n",
       " 114: 223,\n",
       " 115: 224,\n",
       " 116: 225,\n",
       " 117: 226,\n",
       " 118: 227,\n",
       " 119: 228,\n",
       " 120: 229,\n",
       " 121: 230,\n",
       " 122: 231,\n",
       " 123: 232,\n",
       " 124: 232,\n",
       " 125: 233,\n",
       " 126: 234,\n",
       " 127: 235,\n",
       " 128: 235,\n",
       " 129: 236,\n",
       " 130: 237,\n",
       " 131: 237,\n",
       " 132: 238,\n",
       " 133: 238,\n",
       " 134: 239,\n",
       " 135: 239,\n",
       " 136: 240,\n",
       " 137: 240,\n",
       " 138: 241,\n",
       " 139: 241,\n",
       " 140: 241,\n",
       " 141: 242,\n",
       " 142: 242,\n",
       " 143: 242,\n",
       " 144: 243,\n",
       " 145: 243,\n",
       " 146: 243,\n",
       " 147: 244,\n",
       " 148: 244,\n",
       " 149: 244,\n",
       " 150: 245,\n",
       " 151: 245,\n",
       " 152: 245,\n",
       " 153: 245,\n",
       " 154: 246,\n",
       " 155: 246,\n",
       " 156: 246,\n",
       " 157: 246,\n",
       " 158: 246,\n",
       " 159: 247,\n",
       " 160: 247,\n",
       " 161: 247,\n",
       " 162: 247,\n",
       " 163: 247,\n",
       " 164: 247,\n",
       " 165: 248,\n",
       " 166: 248,\n",
       " 167: 248,\n",
       " 168: 248,\n",
       " 169: 248,\n",
       " 170: 248,\n",
       " 171: 248,\n",
       " 172: 249,\n",
       " 173: 249,\n",
       " 174: 249,\n",
       " 175: 249,\n",
       " 176: 249,\n",
       " 177: 249,\n",
       " 178: 249,\n",
       " 179: 249,\n",
       " 180: 249,\n",
       " 181: 250,\n",
       " 182: 250,\n",
       " 183: 250,\n",
       " 184: 250,\n",
       " 185: 250,\n",
       " 186: 250,\n",
       " 187: 250,\n",
       " 188: 250,\n",
       " 189: 250,\n",
       " 190: 250,\n",
       " 191: 251,\n",
       " 192: 251,\n",
       " 193: 251,\n",
       " 194: 251,\n",
       " 195: 251,\n",
       " 196: 251,\n",
       " 197: 251,\n",
       " 198: 251,\n",
       " 199: 251,\n",
       " 200: 251,\n",
       " 201: 251,\n",
       " 202: 251,\n",
       " 203: 251,\n",
       " 204: 252,\n",
       " 205: 252,\n",
       " 206: 252,\n",
       " 207: 252,\n",
       " 208: 252,\n",
       " 209: 252,\n",
       " 210: 252,\n",
       " 211: 252,\n",
       " 212: 252,\n",
       " 213: 252,\n",
       " 214: 252,\n",
       " 215: 252,\n",
       " 216: 252,\n",
       " 217: 252,\n",
       " 218: 252,\n",
       " 219: 252,\n",
       " 220: 252,\n",
       " 221: 252,\n",
       " 222: 253,\n",
       " 223: 253,\n",
       " 224: 253,\n",
       " 225: 253,\n",
       " 226: 253,\n",
       " 227: 253,\n",
       " 228: 253,\n",
       " 229: 253,\n",
       " 230: 253,\n",
       " 231: 253,\n",
       " 232: 253,\n",
       " 233: 253,\n",
       " 234: 253,\n",
       " 235: 253,\n",
       " 236: 253,\n",
       " 237: 253,\n",
       " 238: 253,\n",
       " 239: 253,\n",
       " 240: 253,\n",
       " 241: 253,\n",
       " 242: 253,\n",
       " 243: 253,\n",
       " 244: 253,\n",
       " 245: 253,\n",
       " 246: 254,\n",
       " 247: 254,\n",
       " 248: 254,\n",
       " 249: 254,\n",
       " 250: 254,\n",
       " 251: 254,\n",
       " 252: 254,\n",
       " 253: 254,\n",
       " 254: 254,\n",
       " 255: 254}"
      ]
     },
     "execution_count": 97,
     "metadata": {},
     "output_type": "execute_result"
    }
   ],
   "source": [
    "n"
   ]
  },
  {
   "cell_type": "code",
   "execution_count": 98,
   "id": "9f651a01",
   "metadata": {},
   "outputs": [],
   "source": [
    "new_img = gray_img1.copy()"
   ]
  },
  {
   "cell_type": "code",
   "execution_count": 99,
   "id": "a4ed1627",
   "metadata": {},
   "outputs": [],
   "source": [
    "for k, v in n.items():\n",
    "    new_img[new_img == k] = v"
   ]
  },
  {
   "cell_type": "code",
   "execution_count": 100,
   "id": "bfcd1ecf",
   "metadata": {},
   "outputs": [
    {
     "data": {
      "text/plain": [
       "array([[254, 254, 254, ..., 254, 254, 254],\n",
       "       [254, 254, 254, ..., 254, 254, 254],\n",
       "       [254, 254, 254, ..., 254, 254, 254],\n",
       "       ...,\n",
       "       [254, 254, 254, ..., 254, 254, 254],\n",
       "       [254, 254, 254, ..., 254, 254, 254],\n",
       "       [254, 254, 254, ..., 254, 254, 254]], dtype=uint8)"
      ]
     },
     "execution_count": 100,
     "metadata": {},
     "output_type": "execute_result"
    }
   ],
   "source": [
    "new_img"
   ]
  },
  {
   "cell_type": "code",
   "execution_count": 101,
   "id": "a4cbda72",
   "metadata": {},
   "outputs": [
    {
     "data": {
      "image/png": "[encoded data removed]",
      "text/plain": [
       "<Figure size 432x288 with 1 Axes>"
      ]
     },
     "metadata": {
      "needs_background": "light"
     },
     "output_type": "display_data"
    }
   ],
   "source": [
    "plt.hist(new_img.flatten(), bins=256)\n",
    "plt.show()"
   ]
  },
  {
   "cell_type": "code",
   "execution_count": 102,
   "id": "a4d694f6",
   "metadata": {},
   "outputs": [],
   "source": [
    "cv.imshow('Gray Image', gray_img1)\n",
    "cv.imshow('New Image', new_img)\n",
    "cv.waitKey(0)\n",
    "cv.destroyAllWindows()"
   ]
  },
  {
   "cell_type": "code",
   "execution_count": null,
   "id": "ccb1b92a",
   "metadata": {},
   "outputs": [],
   "source": []
  },
  {
   "cell_type": "code",
   "execution_count": null,
   "id": "07554278",
   "metadata": {},
   "outputs": [],
   "source": []
  }
 ],
 "metadata": {
  "kernelspec": {
   "display_name": "Python 3 (ipykernel)",
   "language": "python",
   "name": "python3"
  },
  "language_info": {
   "codemirror_mode": {
    "name": "ipython",
    "version": 3
   },
   "file_extension": ".py",
   "mimetype": "text/x-python",
   "name": "python",
   "nbconvert_exporter": "python",
   "pygments_lexer": "ipython3",
   "version": "3.9.12"
  }
 },
 "nbformat": 4,
 "nbformat_minor": 5
}
